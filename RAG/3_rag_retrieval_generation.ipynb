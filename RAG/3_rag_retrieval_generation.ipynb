{
 "cells": [
  {
   "cell_type": "code",
   "execution_count": 8,
   "metadata": {},
   "outputs": [],
   "source": [
    "# refs: https://docs.llamaindex.ai/en/stable/module_guides/querying/response_synthesizers/"
   ]
  },
  {
   "cell_type": "code",
   "execution_count": 14,
   "metadata": {},
   "outputs": [
    {
     "name": "stdout",
     "output_type": "stream",
     "text": [
      "The autoreload extension is already loaded. To reload it, use:\n",
      "  %reload_ext autoreload\n"
     ]
    }
   ],
   "source": [
    "from dotenv import load_dotenv\n",
    "import os\n",
    "import sys\n",
    "import logging\n",
    "\n",
    "from llama_index.core import StorageContext, load_index_from_storage\n",
    "\n",
    "from llama_index.core.retrievers import VectorIndexRetriever\n",
    "\n",
    "from llama_index.core import Settings\n",
    "\n",
    "from llama_index.embeddings.openai import OpenAIEmbedding\n",
    "from llama_index.llms.openai import OpenAI\n",
    "\n",
    "from llama_index.core.data_structs import Node\n",
    "from llama_index.core.schema import NodeWithScore\n",
    "from llama_index.core import get_response_synthesizer\n",
    "\n",
    "\n",
    "import openai\n",
    "\n",
    "import nest_asyncio\n",
    "nest_asyncio.apply()\n",
    "\n",
    "import logging\n",
    "import sys\n",
    "\n",
    "logging.basicConfig(stream=sys.stdout, level=logging.INFO)\n",
    "logging.getLogger().addHandler(logging.StreamHandler(stream=sys.stdout))\n",
    "\n",
    "from llama_index.llms.openai import OpenAI\n",
    "from IPython.display import Markdown, display\n",
    "\n",
    "from llama_index.core.retrievers import VectorIndexRetriever\n",
    "from llama_index.core import QueryBundle\n",
    "from llama_index.postprocessor.rankgpt_rerank import RankGPTRerank\n",
    "\n",
    "import pandas as pd\n",
    "from IPython.display import display, HTML\n",
    "\n",
    "\n",
    "load_dotenv()  # Load environment variables from .env file\n",
    "openai.api_key = os.getenv(\"OPENAI_API_KEY\")\n",
    "\n",
    "OPENAI_API_KEY = openai.api_key\n",
    "\n",
    "Settings.llm = OpenAI(temperature=0, model=\"gpt-3.5-turbo\")\n",
    "Settings.embed_model = OpenAIEmbedding(model=\"text-embedding-3-large\")\n",
    "\n",
    "\n",
    "logging.basicConfig(stream=sys.stdout, level=logging.INFO)\n",
    "logging.getLogger().addHandler(logging.StreamHandler(stream=sys.stdout))\n",
    "\n",
    "\n",
    "%load_ext autoreload\n",
    "%autoreload 2\n",
    "\n",
    "\n"
   ]
  },
  {
   "cell_type": "code",
   "execution_count": 15,
   "metadata": {},
   "outputs": [
    {
     "name": "stdout",
     "output_type": "stream",
     "text": [
      "INFO:llama_index.core.indices.loading:Loading all indices.\n",
      "Loading all indices.\n",
      "Loading all indices.\n",
      "Loading all indices.\n",
      "Loading all indices.\n",
      "Loading all indices.\n",
      "Loading all indices.\n"
     ]
    }
   ],
   "source": [
    "\n",
    "\n",
    "# Rebuild the storage context\n",
    "storage_context = StorageContext.from_defaults(persist_dir=\"./persist\")\n",
    "\n",
    "# Load the index from storage\n",
    "index = load_index_from_storage(storage_context)"
   ]
  },
  {
   "cell_type": "code",
   "execution_count": 16,
   "metadata": {},
   "outputs": [],
   "source": [
    "\n",
    "def get_retrieved_nodes(\n",
    "    query_str, vector_top_k=10, reranker_top_n=3, with_reranker=False\n",
    "):\n",
    "    query_bundle = QueryBundle(query_str)\n",
    "    # configure retriever\n",
    "    retriever = VectorIndexRetriever(\n",
    "        index=index,\n",
    "        similarity_top_k=vector_top_k,\n",
    "    )\n",
    "    retrieved_nodes = retriever.retrieve(query_bundle)\n",
    "\n",
    "    if with_reranker:\n",
    "        # configure reranker\n",
    "        reranker = RankGPTRerank(\n",
    "            llm=OpenAI(\n",
    "               model=\"gpt-3.5-turbo\",\n",
    "               temperature=0.0,\n",
    "               api_key=OPENAI_API_KEY,\n",
    "            ),\n",
    "            top_n=reranker_top_n,\n",
    "            verbose=True,\n",
    "        )\n",
    "        retrieved_nodes = reranker.postprocess_nodes(\n",
    "            retrieved_nodes, query_bundle\n",
    "        )\n",
    "\n",
    "    return retrieved_nodes\n",
    "\n",
    "\n",
    "def pretty_print(df):\n",
    "    return display(HTML(df.to_html().replace(\"\\\\n\", \"\")))\n",
    "\n",
    "\n",
    "def visualize_retrieved_nodes(nodes) -> None:\n",
    "    result_dicts = []\n",
    "    for node in nodes:\n",
    "        result_dict = {\"Score\": node.score, \"Text\": node.node.get_text()}\n",
    "        result_dicts.append(result_dict)\n",
    "\n",
    "    pretty_print(pd.DataFrame(result_dicts))"
   ]
  },
  {
   "cell_type": "code",
   "execution_count": 17,
   "metadata": {},
   "outputs": [
    {
     "name": "stdout",
     "output_type": "stream",
     "text": [
      "INFO:httpx:HTTP Request: POST https://api.openai.com/v1/embeddings \"HTTP/1.1 200 OK\"\n",
      "HTTP Request: POST https://api.openai.com/v1/embeddings \"HTTP/1.1 200 OK\"\n",
      "HTTP Request: POST https://api.openai.com/v1/embeddings \"HTTP/1.1 200 OK\"\n",
      "HTTP Request: POST https://api.openai.com/v1/embeddings \"HTTP/1.1 200 OK\"\n",
      "HTTP Request: POST https://api.openai.com/v1/embeddings \"HTTP/1.1 200 OK\"\n",
      "HTTP Request: POST https://api.openai.com/v1/embeddings \"HTTP/1.1 200 OK\"\n",
      "HTTP Request: POST https://api.openai.com/v1/embeddings \"HTTP/1.1 200 OK\"\n",
      "INFO:httpx:HTTP Request: POST https://api.openai.com/v1/chat/completions \"HTTP/1.1 200 OK\"\n",
      "HTTP Request: POST https://api.openai.com/v1/chat/completions \"HTTP/1.1 200 OK\"\n",
      "HTTP Request: POST https://api.openai.com/v1/chat/completions \"HTTP/1.1 200 OK\"\n",
      "HTTP Request: POST https://api.openai.com/v1/chat/completions \"HTTP/1.1 200 OK\"\n",
      "HTTP Request: POST https://api.openai.com/v1/chat/completions \"HTTP/1.1 200 OK\"\n",
      "HTTP Request: POST https://api.openai.com/v1/chat/completions \"HTTP/1.1 200 OK\"\n",
      "HTTP Request: POST https://api.openai.com/v1/chat/completions \"HTTP/1.1 200 OK\"\n",
      "After Reranking, new rank list for nodes: [0, 6, 1, 3, 8, 25, 7, 23, 24, 27, 9, 13, 14, 15, 16, 20, 19, 18, 21, 4, 2, 26, 28, 29, 10, 5, 17, 11, 12, 22]"
     ]
    },
    {
     "data": {
      "text/html": [
       "<table border=\"1\" class=\"dataframe\">\n",
       "  <thead>\n",
       "    <tr style=\"text-align: right;\">\n",
       "      <th></th>\n",
       "      <th>Score</th>\n",
       "      <th>Text</th>\n",
       "    </tr>\n",
       "  </thead>\n",
       "  <tbody>\n",
       "    <tr>\n",
       "      <th>0</th>\n",
       "      <td>0.694664</td>\n",
       "      <td>Can Keytruda cause immune-related adverse effects? Yes, Keytruda can cause immune-related adverse effects such as colitis, hepatitis, and pneumonitis.</td>\n",
       "    </tr>\n",
       "    <tr>\n",
       "      <th>1</th>\n",
       "      <td>0.630779</td>\n",
       "      <td>How does Keytruda affect immune system function in NSCLC patients? Keytruda enhances the immune system's ability to detect and destroy cancer cells but can also lead to immune-related adverse effects that need to be managed.</td>\n",
       "    </tr>\n",
       "    <tr>\n",
       "      <th>2</th>\n",
       "      <td>0.655395</td>\n",
       "      <td>Are there specific side effects of Keytruda that NSCLC patients should monitor? NSCLC patients should monitor for cough, shortness of breath, and chest pain, as these could indicate immune-related pneumonitis.</td>\n",
       "    </tr>\n",
       "    <tr>\n",
       "      <th>3</th>\n",
       "      <td>0.632893</td>\n",
       "      <td>Can Keytruda be used in NSCLC patients with autoimmune diseases? Keytruda should be used with caution in patients with pre-existing autoimmune diseases due to the risk of exacerbating the condition.</td>\n",
       "    </tr>\n",
       "    <tr>\n",
       "      <th>4</th>\n",
       "      <td>0.602679</td>\n",
       "      <td>Are there any specific monitoring protocols for NSCLC patients on Keytruda as suggested by KEYNOTE-006 outcomes? Regular monitoring of liver function, lung function, and immune markers is recommended to manage potential side effects effectively.</td>\n",
       "    </tr>\n",
       "  </tbody>\n",
       "</table>"
      ],
      "text/plain": [
       "<IPython.core.display.HTML object>"
      ]
     },
     "metadata": {},
     "output_type": "display_data"
    }
   ],
   "source": [
    "query = \"What are potential CONSECUENCES of keytruda?\"\n",
    "retrieved_nodes = get_retrieved_nodes(\n",
    "    query,\n",
    "    vector_top_k=30,\n",
    "    reranker_top_n=5,\n",
    "    with_reranker=True,\n",
    ")\n",
    "\n",
    "# for idx, node in enumerate(retrieved_nodes):\n",
    "#     print(f\"Retrieved Node {idx}: Embedding:  {node.embedding}, embedding_VDB: {index.vector_store.get(node.id_)}\")\n",
    "\n",
    "visualize_retrieved_nodes(retrieved_nodes)\n"
   ]
  },
  {
   "cell_type": "code",
   "execution_count": 18,
   "metadata": {},
   "outputs": [
    {
     "name": "stdout",
     "output_type": "stream",
     "text": [
      "INFO:httpx:HTTP Request: POST https://api.openai.com/v1/chat/completions \"HTTP/1.1 200 OK\"\n",
      "HTTP Request: POST https://api.openai.com/v1/chat/completions \"HTTP/1.1 200 OK\"\n",
      "HTTP Request: POST https://api.openai.com/v1/chat/completions \"HTTP/1.1 200 OK\"\n",
      "HTTP Request: POST https://api.openai.com/v1/chat/completions \"HTTP/1.1 200 OK\"\n",
      "HTTP Request: POST https://api.openai.com/v1/chat/completions \"HTTP/1.1 200 OK\"\n",
      "HTTP Request: POST https://api.openai.com/v1/chat/completions \"HTTP/1.1 200 OK\"\n",
      "HTTP Request: POST https://api.openai.com/v1/chat/completions \"HTTP/1.1 200 OK\"\n"
     ]
    },
    {
     "data": {
      "text/plain": [
       "Response(response='Potential consequences of Keytruda include immune-related adverse effects such as colitis, hepatitis, pneumonitis, and the exacerbation of pre-existing autoimmune diseases. Regular monitoring of liver function, lung function, and immune markers is recommended to manage these potential side effects effectively.', source_nodes=[NodeWithScore(node=TextNode(id_='1c86f3e8-53f4-417a-9c1b-81fb42255e97', embedding=None, metadata={'document_title': 'Keytruda and Immune-Related Adverse Effects: A Comprehensive Overview'}, excluded_embed_metadata_keys=[], excluded_llm_metadata_keys=[], relationships={<NodeRelationship.SOURCE: '1'>: RelatedNodeInfo(node_id='49de588d-beb9-4e7e-84dc-06ffb2e63a2d', node_type=<ObjectType.DOCUMENT: '4'>, metadata={}, hash='c73be1b4e2cb5e6157fd80000f0fe59f6ca8631fa4924c5ed0be7dd3180c3218')}, text='Can Keytruda cause immune-related adverse effects? Yes, Keytruda can cause immune-related adverse effects such as colitis, hepatitis, and pneumonitis.', mimetype='text/plain', start_char_idx=0, end_char_idx=150, text_template='[Excerpt from document]\\n{metadata_str}\\nExcerpt:\\n-----\\n{content}\\n-----\\n', metadata_template='{key}: {value}', metadata_seperator='\\n'), score=0.694663961618386), NodeWithScore(node=TextNode(id_='6769e1e6-7182-41b8-9f5a-498971f6a7ab', embedding=None, metadata={'document_title': \"Keytruda's Dual Impact on Immune System Function in Non-Small Cell Lung Cancer Patients: A Comprehensive Review\"}, excluded_embed_metadata_keys=[], excluded_llm_metadata_keys=[], relationships={<NodeRelationship.SOURCE: '1'>: RelatedNodeInfo(node_id='47b3ef42-c71e-4a91-8814-d07937aae69e', node_type=<ObjectType.DOCUMENT: '4'>, metadata={}, hash='e12b51245aa4983a9f49193844a23111cb167b4b00c8d446eb4db98f97a74af8')}, text=\"How does Keytruda affect immune system function in NSCLC patients? Keytruda enhances the immune system's ability to detect and destroy cancer cells but can also lead to immune-related adverse effects that need to be managed.\", mimetype='text/plain', start_char_idx=0, end_char_idx=224, text_template='[Excerpt from document]\\n{metadata_str}\\nExcerpt:\\n-----\\n{content}\\n-----\\n', metadata_template='{key}: {value}', metadata_seperator='\\n'), score=0.6307792765264351), NodeWithScore(node=TextNode(id_='42490fd1-3472-46b2-a045-3c674b8c4d45', embedding=None, metadata={'document_title': 'Monitoring Keytruda Side Effects in NSCLC Patients: A Comprehensive Guide'}, excluded_embed_metadata_keys=[], excluded_llm_metadata_keys=[], relationships={<NodeRelationship.SOURCE: '1'>: RelatedNodeInfo(node_id='e6afb036-e8de-4798-ac85-b11e7126d096', node_type=<ObjectType.DOCUMENT: '4'>, metadata={}, hash='c836b84f73a24eb1651123703374f4762bd0bd27f62b0153ea405e07244ce7ef')}, text='Are there specific side effects of Keytruda that NSCLC patients should monitor? NSCLC patients should monitor for cough, shortness of breath, and chest pain, as these could indicate immune-related pneumonitis.', mimetype='text/plain', start_char_idx=0, end_char_idx=209, text_template='[Excerpt from document]\\n{metadata_str}\\nExcerpt:\\n-----\\n{content}\\n-----\\n', metadata_template='{key}: {value}', metadata_seperator='\\n'), score=0.6553953614397532), NodeWithScore(node=TextNode(id_='82c7d105-9423-4af9-b9e9-e48a1b5c87f8', embedding=None, metadata={'document_title': 'Keytruda Use in NSCLC Patients with Autoimmune Diseases: Caution Advised'}, excluded_embed_metadata_keys=[], excluded_llm_metadata_keys=[], relationships={<NodeRelationship.SOURCE: '1'>: RelatedNodeInfo(node_id='d2d6ade0-d86c-441f-9bae-6d22c5400925', node_type=<ObjectType.DOCUMENT: '4'>, metadata={}, hash='d6006a9d9525d8f9c40c21e1768057a9ab8ebe753bb9f9b1fbe831a9c6b62979')}, text='Can Keytruda be used in NSCLC patients with autoimmune diseases? Keytruda should be used with caution in patients with pre-existing autoimmune diseases due to the risk of exacerbating the condition.', mimetype='text/plain', start_char_idx=0, end_char_idx=198, text_template='[Excerpt from document]\\n{metadata_str}\\nExcerpt:\\n-----\\n{content}\\n-----\\n', metadata_template='{key}: {value}', metadata_seperator='\\n'), score=0.6328933215727313), NodeWithScore(node=TextNode(id_='51cbfd01-e017-42de-a362-35deae677033', embedding=None, metadata={'document_title': 'Monitoring Protocols for NSCLC Patients on Keytruda: A Comprehensive Guide'}, excluded_embed_metadata_keys=[], excluded_llm_metadata_keys=[], relationships={<NodeRelationship.SOURCE: '1'>: RelatedNodeInfo(node_id='998066fe-4f64-4047-81ec-e5f27c9c8b71', node_type=<ObjectType.DOCUMENT: '4'>, metadata={}, hash='8ece3cf9c35dc00341732316c58b9e50d78e2c1e752cb31e55dc92bfdfd0598d')}, text='Are there any specific monitoring protocols for NSCLC patients on Keytruda as suggested by KEYNOTE-006 outcomes? Regular monitoring of liver function, lung function, and immune markers is recommended to manage potential side effects effectively.', mimetype='text/plain', start_char_idx=0, end_char_idx=245, text_template='[Excerpt from document]\\n{metadata_str}\\nExcerpt:\\n-----\\n{content}\\n-----\\n', metadata_template='{key}: {value}', metadata_seperator='\\n'), score=0.6026794125699548)], metadata={'1c86f3e8-53f4-417a-9c1b-81fb42255e97': {'document_title': 'Keytruda and Immune-Related Adverse Effects: A Comprehensive Overview'}, '6769e1e6-7182-41b8-9f5a-498971f6a7ab': {'document_title': \"Keytruda's Dual Impact on Immune System Function in Non-Small Cell Lung Cancer Patients: A Comprehensive Review\"}, '42490fd1-3472-46b2-a045-3c674b8c4d45': {'document_title': 'Monitoring Keytruda Side Effects in NSCLC Patients: A Comprehensive Guide'}, '82c7d105-9423-4af9-b9e9-e48a1b5c87f8': {'document_title': 'Keytruda Use in NSCLC Patients with Autoimmune Diseases: Caution Advised'}, '51cbfd01-e017-42de-a362-35deae677033': {'document_title': 'Monitoring Protocols for NSCLC Patients on Keytruda: A Comprehensive Guide'}})"
      ]
     },
     "execution_count": 18,
     "metadata": {},
     "output_type": "execute_result"
    }
   ],
   "source": [
    "\n",
    "response_synthesizer = get_response_synthesizer(response_mode=\"compact\")\n",
    "\n",
    "response = response_synthesizer.synthesize(\n",
    "    query, nodes=retrieved_nodes\n",
    ")\n",
    "response"
   ]
  },
  {
   "cell_type": "code",
   "execution_count": null,
   "metadata": {},
   "outputs": [],
   "source": []
  },
  {
   "cell_type": "code",
   "execution_count": null,
   "metadata": {},
   "outputs": [],
   "source": []
  },
  {
   "cell_type": "code",
   "execution_count": null,
   "metadata": {},
   "outputs": [],
   "source": [
    "from llama_index.core import ResponseSynthesizer\n",
    "\n",
    "# Assuming 'retrieved_nodes' is already obtained from your previous function\n",
    "query = \"What are potential CONSEQUENCES of keytruda?\"\n",
    "\n",
    "# Create a response synthesizer\n",
    "response_synthesizer = ResponseSynthesizer.from_args()\n",
    "\n",
    "# Synthesize a response using the retrieved nodes and your query\n",
    "response = response_synthesizer.synthesize(\n",
    "    query=query,\n",
    "    nodes=retrieved_nodes\n",
    ")\n",
    "\n",
    "# Display the generated answer\n",
    "print(response)"
   ]
  }
 ],
 "metadata": {
  "kernelspec": {
   "display_name": ".venv",
   "language": "python",
   "name": "python3"
  },
  "language_info": {
   "codemirror_mode": {
    "name": "ipython",
    "version": 3
   },
   "file_extension": ".py",
   "mimetype": "text/x-python",
   "name": "python",
   "nbconvert_exporter": "python",
   "pygments_lexer": "ipython3",
   "version": "3.11.10"
  }
 },
 "nbformat": 4,
 "nbformat_minor": 2
}
