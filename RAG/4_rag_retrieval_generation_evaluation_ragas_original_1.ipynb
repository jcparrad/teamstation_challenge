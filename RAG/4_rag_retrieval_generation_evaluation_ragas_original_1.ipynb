{
 "cells": [
  {
   "cell_type": "markdown",
   "metadata": {},
   "source": [
    "# evaluation\n",
    "ragas ref:\n",
    "\n",
    "\n",
    "https://docs.ragas.io/en/stable/index.html"
   ]
  },
  {
   "cell_type": "code",
   "execution_count": 1,
   "metadata": {},
   "outputs": [
    {
     "name": "stderr",
     "output_type": "stream",
     "text": [
      "/Users/juan/Documents/proyectos_propios/jobs/teamstation/.venv/lib/python3.11/site-packages/tqdm/auto.py:21: TqdmWarning: IProgress not found. Please update jupyter and ipywidgets. See https://ipywidgets.readthedocs.io/en/stable/user_install.html\n",
      "  from .autonotebook import tqdm as notebook_tqdm\n"
     ]
    }
   ],
   "source": [
    "from dotenv import load_dotenv\n",
    "import os\n",
    "import sys\n",
    "import logging\n",
    "\n",
    "from llama_index.core import StorageContext, load_index_from_storage\n",
    "\n",
    "from llama_index.core.retrievers import VectorIndexRetriever\n",
    "\n",
    "from llama_index.core import Settings\n",
    "\n",
    "from llama_index.embeddings.openai import OpenAIEmbedding\n",
    "from llama_index.llms.openai import OpenAI\n",
    "\n",
    "from llama_index.core.data_structs import Node\n",
    "from llama_index.core.schema import NodeWithScore\n",
    "from llama_index.core import get_response_synthesizer\n",
    "\n",
    "from ragas.metrics import (\n",
    "    faithfulness,\n",
    "    answer_relevancy,\n",
    "    context_precision,\n",
    "    context_recall,\n",
    ")\n",
    "#from ragas.metrics.critique import harmfulness\n",
    "\n",
    "\n",
    "from llama_index.llms.openai import OpenAI\n",
    "from llama_index.embeddings.openai import OpenAIEmbedding\n",
    "from datasets import Dataset\n",
    "from ragas.integrations.llama_index import evaluate\n",
    "\n",
    "\n",
    "\n",
    "\n",
    "import openai\n",
    "\n",
    "import nest_asyncio\n",
    "nest_asyncio.apply()\n",
    "\n",
    "import logging\n",
    "import sys\n",
    "\n",
    "logging.basicConfig(stream=sys.stdout, level=logging.INFO)\n",
    "logging.getLogger().addHandler(logging.StreamHandler(stream=sys.stdout))\n",
    "\n",
    "from llama_index.llms.openai import OpenAI\n",
    "from IPython.display import Markdown, display\n",
    "\n",
    "from llama_index.core.retrievers import VectorIndexRetriever\n",
    "from llama_index.core import QueryBundle\n",
    "from llama_index.postprocessor.rankgpt_rerank import RankGPTRerank\n",
    "\n",
    "import pandas as pd\n",
    "from IPython.display import display, HTML\n",
    "\n",
    "\n",
    "load_dotenv()  # Load environment variables from .env file\n",
    "openai.api_key = os.getenv(\"OPENAI_API_KEY\")\n",
    "\n",
    "OPENAI_API_KEY = openai.api_key\n",
    "\n",
    "Settings.llm = OpenAI(temperature=0, model=\"gpt-3.5-turbo\")\n",
    "Settings.embed_model = OpenAIEmbedding(model=\"text-embedding-3-large\")\n",
    "\n",
    "\n",
    "logging.basicConfig(stream=sys.stdout, level=logging.INFO)\n",
    "logging.getLogger().addHandler(logging.StreamHandler(stream=sys.stdout))\n",
    "\n",
    "# import logging\n",
    "# logging.getLogger(\"httpx\").setLevel(logging.WARNING)\n",
    "\n",
    "%load_ext autoreload\n",
    "%autoreload 2\n",
    "\n",
    "\n"
   ]
  },
  {
   "cell_type": "code",
   "execution_count": 2,
   "metadata": {},
   "outputs": [
    {
     "name": "stdout",
     "output_type": "stream",
     "text": [
      "INFO:llama_index.core.indices.loading:Loading all indices.\n",
      "Loading all indices.\n",
      "Loading all indices.\n",
      "INFO:httpx:HTTP Request: POST https://api.openai.com/v1/embeddings \"HTTP/1.1 200 OK\"\n",
      "HTTP Request: POST https://api.openai.com/v1/embeddings \"HTTP/1.1 200 OK\"\n",
      "HTTP Request: POST https://api.openai.com/v1/embeddings \"HTTP/1.1 200 OK\"\n",
      "INFO:httpx:HTTP Request: POST https://api.openai.com/v1/chat/completions \"HTTP/1.1 200 OK\"\n",
      "HTTP Request: POST https://api.openai.com/v1/chat/completions \"HTTP/1.1 200 OK\"\n",
      "HTTP Request: POST https://api.openai.com/v1/chat/completions \"HTTP/1.1 200 OK\"\n",
      "After Reranking, new rank list for nodes: [0, 6, 3, 1, 2, 7, 8, 25, 13, 23, 27, 24, 9, 14, 15, 16, 20, 18, 19, 21, 10, 4, 17, 26, 28, 29, 5, 11, 12, 22]INFO:httpx:HTTP Request: POST https://api.openai.com/v1/chat/completions \"HTTP/1.1 200 OK\"\n",
      "HTTP Request: POST https://api.openai.com/v1/chat/completions \"HTTP/1.1 200 OK\"\n",
      "HTTP Request: POST https://api.openai.com/v1/chat/completions \"HTTP/1.1 200 OK\"\n"
     ]
    },
    {
     "data": {
      "text/plain": [
       "Response(response='Potential consequences of Keytruda include immune-related adverse effects such as colitis, hepatitis, pneumonitis, and exacerbation of pre-existing autoimmune diseases. It is important for patients to monitor for symptoms like cough, shortness of breath, chest pain, and changes in vision while on Keytruda treatment to ensure optimal care and safety.', source_nodes=[NodeWithScore(node=TextNode(id_='1c86f3e8-53f4-417a-9c1b-81fb42255e97', embedding=None, metadata={'document_title': 'Keytruda and Immune-Related Adverse Effects: A Comprehensive Overview'}, excluded_embed_metadata_keys=[], excluded_llm_metadata_keys=[], relationships={<NodeRelationship.SOURCE: '1'>: RelatedNodeInfo(node_id='49de588d-beb9-4e7e-84dc-06ffb2e63a2d', node_type=<ObjectType.DOCUMENT: '4'>, metadata={}, hash='c73be1b4e2cb5e6157fd80000f0fe59f6ca8631fa4924c5ed0be7dd3180c3218')}, text='Can Keytruda cause immune-related adverse effects? Yes, Keytruda can cause immune-related adverse effects such as colitis, hepatitis, and pneumonitis.', mimetype='text/plain', start_char_idx=0, end_char_idx=150, text_template='[Excerpt from document]\\n{metadata_str}\\nExcerpt:\\n-----\\n{content}\\n-----\\n', metadata_template='{key}: {value}', metadata_seperator='\\n'), score=0.6946415218110189), NodeWithScore(node=TextNode(id_='6769e1e6-7182-41b8-9f5a-498971f6a7ab', embedding=None, metadata={'document_title': \"Keytruda's Dual Impact on Immune System Function in Non-Small Cell Lung Cancer Patients: A Comprehensive Review\"}, excluded_embed_metadata_keys=[], excluded_llm_metadata_keys=[], relationships={<NodeRelationship.SOURCE: '1'>: RelatedNodeInfo(node_id='47b3ef42-c71e-4a91-8814-d07937aae69e', node_type=<ObjectType.DOCUMENT: '4'>, metadata={}, hash='e12b51245aa4983a9f49193844a23111cb167b4b00c8d446eb4db98f97a74af8')}, text=\"How does Keytruda affect immune system function in NSCLC patients? Keytruda enhances the immune system's ability to detect and destroy cancer cells but can also lead to immune-related adverse effects that need to be managed.\", mimetype='text/plain', start_char_idx=0, end_char_idx=224, text_template='[Excerpt from document]\\n{metadata_str}\\nExcerpt:\\n-----\\n{content}\\n-----\\n', metadata_template='{key}: {value}', metadata_seperator='\\n'), score=0.6307527643605805), NodeWithScore(node=TextNode(id_='82c7d105-9423-4af9-b9e9-e48a1b5c87f8', embedding=None, metadata={'document_title': 'Keytruda Use in NSCLC Patients with Autoimmune Diseases: Caution Advised'}, excluded_embed_metadata_keys=[], excluded_llm_metadata_keys=[], relationships={<NodeRelationship.SOURCE: '1'>: RelatedNodeInfo(node_id='d2d6ade0-d86c-441f-9bae-6d22c5400925', node_type=<ObjectType.DOCUMENT: '4'>, metadata={}, hash='d6006a9d9525d8f9c40c21e1768057a9ab8ebe753bb9f9b1fbe831a9c6b62979')}, text='Can Keytruda be used in NSCLC patients with autoimmune diseases? Keytruda should be used with caution in patients with pre-existing autoimmune diseases due to the risk of exacerbating the condition.', mimetype='text/plain', start_char_idx=0, end_char_idx=198, text_template='[Excerpt from document]\\n{metadata_str}\\nExcerpt:\\n-----\\n{content}\\n-----\\n', metadata_template='{key}: {value}', metadata_seperator='\\n'), score=0.6328848170584861), NodeWithScore(node=TextNode(id_='42490fd1-3472-46b2-a045-3c674b8c4d45', embedding=None, metadata={'document_title': 'Monitoring Keytruda Side Effects in NSCLC Patients: A Comprehensive Guide'}, excluded_embed_metadata_keys=[], excluded_llm_metadata_keys=[], relationships={<NodeRelationship.SOURCE: '1'>: RelatedNodeInfo(node_id='e6afb036-e8de-4798-ac85-b11e7126d096', node_type=<ObjectType.DOCUMENT: '4'>, metadata={}, hash='c836b84f73a24eb1651123703374f4762bd0bd27f62b0153ea405e07244ce7ef')}, text='Are there specific side effects of Keytruda that NSCLC patients should monitor? NSCLC patients should monitor for cough, shortness of breath, and chest pain, as these could indicate immune-related pneumonitis.', mimetype='text/plain', start_char_idx=0, end_char_idx=209, text_template='[Excerpt from document]\\n{metadata_str}\\nExcerpt:\\n-----\\n{content}\\n-----\\n', metadata_template='{key}: {value}', metadata_seperator='\\n'), score=0.6553319883921088), NodeWithScore(node=TextNode(id_='08a41277-3e68-438d-a1ef-0e5cee2fee19', embedding=None, metadata={'document_title': 'Keytruda Treatment: Reporting Symptoms Immediately for Optimal Care and Safety'}, excluded_embed_metadata_keys=[], excluded_llm_metadata_keys=[], relationships={<NodeRelationship.SOURCE: '1'>: RelatedNodeInfo(node_id='036d6935-3d22-4899-8e00-187bc1f19455', node_type=<ObjectType.DOCUMENT: '4'>, metadata={}, hash='ece4cc1d01c5ca9149d1021a1bef61325dc0d0ddc383e236acdc57517e0e59cf')}, text='What should patients report immediately while on Keytruda treatment? Patients should report any new or worsening symptoms such as cough, chest pain, or changes in vision immediately.', mimetype='text/plain', start_char_idx=0, end_char_idx=182, text_template='[Excerpt from document]\\n{metadata_str}\\nExcerpt:\\n-----\\n{content}\\n-----\\n', metadata_template='{key}: {value}', metadata_seperator='\\n'), score=0.643182880587445)], metadata={'1c86f3e8-53f4-417a-9c1b-81fb42255e97': {'document_title': 'Keytruda and Immune-Related Adverse Effects: A Comprehensive Overview'}, '6769e1e6-7182-41b8-9f5a-498971f6a7ab': {'document_title': \"Keytruda's Dual Impact on Immune System Function in Non-Small Cell Lung Cancer Patients: A Comprehensive Review\"}, '82c7d105-9423-4af9-b9e9-e48a1b5c87f8': {'document_title': 'Keytruda Use in NSCLC Patients with Autoimmune Diseases: Caution Advised'}, '42490fd1-3472-46b2-a045-3c674b8c4d45': {'document_title': 'Monitoring Keytruda Side Effects in NSCLC Patients: A Comprehensive Guide'}, '08a41277-3e68-438d-a1ef-0e5cee2fee19': {'document_title': 'Keytruda Treatment: Reporting Symptoms Immediately for Optimal Care and Safety'}})"
      ]
     },
     "execution_count": 2,
     "metadata": {},
     "output_type": "execute_result"
    }
   ],
   "source": [
    "# Rebuild the storage context\n",
    "storage_context = StorageContext.from_defaults(persist_dir=\"./persist\")\n",
    "\n",
    "# Load the index from storage\n",
    "index = load_index_from_storage(storage_context)\n",
    "\n",
    "\n",
    "\n",
    "def get_retrieved_nodes(\n",
    "    query_str, vector_top_k=10, reranker_top_n=3, with_reranker=False\n",
    "):\n",
    "    query_bundle = QueryBundle(query_str)\n",
    "    # configure retriever\n",
    "    retriever = VectorIndexRetriever(\n",
    "        index=index,\n",
    "        similarity_top_k=vector_top_k,\n",
    "    )\n",
    "    retrieved_nodes = retriever.retrieve(query_bundle)\n",
    "\n",
    "    if with_reranker:\n",
    "        # configure reranker\n",
    "        reranker = RankGPTRerank(\n",
    "            llm=OpenAI(\n",
    "               model=\"gpt-3.5-turbo\",\n",
    "               temperature=0.0,\n",
    "               api_key=OPENAI_API_KEY,\n",
    "            ),\n",
    "            top_n=reranker_top_n,\n",
    "            verbose=True,\n",
    "        )\n",
    "        retrieved_nodes = reranker.postprocess_nodes(\n",
    "            retrieved_nodes, query_bundle\n",
    "        )\n",
    "\n",
    "    return retrieved_nodes\n",
    "\n",
    "\n",
    "\n",
    "query = \"What are potential CONSECUENCES of keytruda?\"\n",
    "retrieved_nodes = get_retrieved_nodes(\n",
    "    query,\n",
    "    vector_top_k=30,\n",
    "    reranker_top_n=5,\n",
    "    with_reranker=True,\n",
    ")\n",
    "\n",
    "response_synthesizer = get_response_synthesizer(response_mode=\"compact\")\n",
    "\n",
    "response = response_synthesizer.synthesize(\n",
    "    query, nodes=retrieved_nodes\n",
    ")\n",
    "\n",
    "response"
   ]
  },
  {
   "cell_type": "code",
   "execution_count": null,
   "metadata": {},
   "outputs": [],
   "source": []
  },
  {
   "cell_type": "code",
   "execution_count": 3,
   "metadata": {},
   "outputs": [
    {
     "name": "stderr",
     "output_type": "stream",
     "text": [
      "/Users/juan/Documents/proyectos_propios/jobs/teamstation/.venv/lib/python3.11/site-packages/pydantic/_internal/_generate_schema.py:547: UserWarning: False is not a Python type (it may be an instance of an object), Pydantic will allow any object with no validation since we cannot even enforce that the input is an instance of the given type. To get rid of this error wrap the type with `pydantic.SkipValidation`.\n",
      "  warn(\n"
     ]
    }
   ],
   "source": [
    "from llama_index.core.query_engine import CustomQueryEngine\n",
    "from llama_index.core.retrievers import BaseRetriever\n",
    "from llama_index.core import get_response_synthesizer\n",
    "from llama_index.core.response_synthesizers import BaseSynthesizer\n",
    "\n",
    "class RAGQueryEngine(CustomQueryEngine):\n",
    "    \"\"\"RAG Query Engine.\"\"\"\n",
    "\n",
    "    with_reranker: False\n",
    "    response_synthesizer: BaseSynthesizer\n",
    "\n",
    "    def custom_query(self, query_str: str):\n",
    "        nodes = get_retrieved_nodes(\n",
    "                        query_str,\n",
    "                        vector_top_k=30,\n",
    "                        reranker_top_n=5,\n",
    "                        with_reranker=self.with_reranker,\n",
    "                    )\n",
    "        response_obj = self.response_synthesizer.synthesize(query_str, nodes)\n",
    "        return response_obj\n",
    "    \n",
    "\n",
    "\n",
    "query_engine_without_reranker = RAGQueryEngine(\n",
    "    response_synthesizer=get_response_synthesizer(response_mode=\"compact\"),\n",
    "    with_reranker = False\n",
    ")\n",
    "\n",
    "query_engine_with_reranker = RAGQueryEngine(\n",
    "    response_synthesizer=get_response_synthesizer(response_mode=\"compact\"),\n",
    "    with_reranker = True\n",
    ")\n",
    "\n"
   ]
  },
  {
   "cell_type": "code",
   "execution_count": 4,
   "metadata": {},
   "outputs": [
    {
     "name": "stdout",
     "output_type": "stream",
     "text": [
      "INFO:httpx:HTTP Request: POST https://api.openai.com/v1/embeddings \"HTTP/1.1 200 OK\"\n",
      "HTTP Request: POST https://api.openai.com/v1/embeddings \"HTTP/1.1 200 OK\"\n",
      "HTTP Request: POST https://api.openai.com/v1/embeddings \"HTTP/1.1 200 OK\"\n",
      "INFO:httpx:HTTP Request: POST https://api.openai.com/v1/chat/completions \"HTTP/1.1 200 OK\"\n",
      "HTTP Request: POST https://api.openai.com/v1/chat/completions \"HTTP/1.1 200 OK\"\n",
      "HTTP Request: POST https://api.openai.com/v1/chat/completions \"HTTP/1.1 200 OK\"\n"
     ]
    },
    {
     "data": {
      "text/plain": [
       "Response(response='Potential consequences of Keytruda include immune-related adverse effects such as colitis, hepatitis, and pneumonitis, as well as changes in blood pressure, interactions with steroids and immunosuppressants, and the need for close monitoring for specific symptoms like cough, chest pain, and changes in vision. Additionally, Keytruda may lead to fatigue, skin rash, nausea, and other common side effects.', source_nodes=[NodeWithScore(node=TextNode(id_='1c86f3e8-53f4-417a-9c1b-81fb42255e97', embedding=None, metadata={'document_title': 'Keytruda and Immune-Related Adverse Effects: A Comprehensive Overview'}, excluded_embed_metadata_keys=[], excluded_llm_metadata_keys=[], relationships={<NodeRelationship.SOURCE: '1'>: RelatedNodeInfo(node_id='49de588d-beb9-4e7e-84dc-06ffb2e63a2d', node_type=<ObjectType.DOCUMENT: '4'>, metadata={}, hash='c73be1b4e2cb5e6157fd80000f0fe59f6ca8631fa4924c5ed0be7dd3180c3218')}, text='Can Keytruda cause immune-related adverse effects? Yes, Keytruda can cause immune-related adverse effects such as colitis, hepatitis, and pneumonitis.', mimetype='text/plain', start_char_idx=0, end_char_idx=150, text_template='[Excerpt from document]\\n{metadata_str}\\nExcerpt:\\n-----\\n{content}\\n-----\\n', metadata_template='{key}: {value}', metadata_seperator='\\n'), score=0.6946415218110189), NodeWithScore(node=TextNode(id_='42490fd1-3472-46b2-a045-3c674b8c4d45', embedding=None, metadata={'document_title': 'Monitoring Keytruda Side Effects in NSCLC Patients: A Comprehensive Guide'}, excluded_embed_metadata_keys=[], excluded_llm_metadata_keys=[], relationships={<NodeRelationship.SOURCE: '1'>: RelatedNodeInfo(node_id='e6afb036-e8de-4798-ac85-b11e7126d096', node_type=<ObjectType.DOCUMENT: '4'>, metadata={}, hash='c836b84f73a24eb1651123703374f4762bd0bd27f62b0153ea405e07244ce7ef')}, text='Are there specific side effects of Keytruda that NSCLC patients should monitor? NSCLC patients should monitor for cough, shortness of breath, and chest pain, as these could indicate immune-related pneumonitis.', mimetype='text/plain', start_char_idx=0, end_char_idx=209, text_template='[Excerpt from document]\\n{metadata_str}\\nExcerpt:\\n-----\\n{content}\\n-----\\n', metadata_template='{key}: {value}', metadata_seperator='\\n'), score=0.6553319883921088), NodeWithScore(node=TextNode(id_='08a41277-3e68-438d-a1ef-0e5cee2fee19', embedding=None, metadata={'document_title': 'Keytruda Treatment: Reporting Symptoms Immediately for Optimal Care and Safety'}, excluded_embed_metadata_keys=[], excluded_llm_metadata_keys=[], relationships={<NodeRelationship.SOURCE: '1'>: RelatedNodeInfo(node_id='036d6935-3d22-4899-8e00-187bc1f19455', node_type=<ObjectType.DOCUMENT: '4'>, metadata={}, hash='ece4cc1d01c5ca9149d1021a1bef61325dc0d0ddc383e236acdc57517e0e59cf')}, text='What should patients report immediately while on Keytruda treatment? Patients should report any new or worsening symptoms such as cough, chest pain, or changes in vision immediately.', mimetype='text/plain', start_char_idx=0, end_char_idx=182, text_template='[Excerpt from document]\\n{metadata_str}\\nExcerpt:\\n-----\\n{content}\\n-----\\n', metadata_template='{key}: {value}', metadata_seperator='\\n'), score=0.643182880587445), NodeWithScore(node=TextNode(id_='82c7d105-9423-4af9-b9e9-e48a1b5c87f8', embedding=None, metadata={'document_title': 'Keytruda Use in NSCLC Patients with Autoimmune Diseases: Caution Advised'}, excluded_embed_metadata_keys=[], excluded_llm_metadata_keys=[], relationships={<NodeRelationship.SOURCE: '1'>: RelatedNodeInfo(node_id='d2d6ade0-d86c-441f-9bae-6d22c5400925', node_type=<ObjectType.DOCUMENT: '4'>, metadata={}, hash='d6006a9d9525d8f9c40c21e1768057a9ab8ebe753bb9f9b1fbe831a9c6b62979')}, text='Can Keytruda be used in NSCLC patients with autoimmune diseases? Keytruda should be used with caution in patients with pre-existing autoimmune diseases due to the risk of exacerbating the condition.', mimetype='text/plain', start_char_idx=0, end_char_idx=198, text_template='[Excerpt from document]\\n{metadata_str}\\nExcerpt:\\n-----\\n{content}\\n-----\\n', metadata_template='{key}: {value}', metadata_seperator='\\n'), score=0.6328848170584861), NodeWithScore(node=TextNode(id_='64096ccf-4e98-4416-86cb-b1d896231199', embedding=None, metadata={'document_title': 'Keytruda and Blood Pressure Changes: Understanding the Relationship and Implications'}, excluded_embed_metadata_keys=[], excluded_llm_metadata_keys=[], relationships={<NodeRelationship.SOURCE: '1'>: RelatedNodeInfo(node_id='2033f1e0-dbd3-4838-b607-3a9a2d3f8844', node_type=<ObjectType.DOCUMENT: '4'>, metadata={}, hash='4b18e3384a842ce815e6bdce35bf79b0fff938dc138b2aea40bc50b5703eb955')}, text='Can Keytruda cause changes in blood pressure? Yes, fluctuations in blood pressure can occur, and patients should monitor their blood pressure regularly.', mimetype='text/plain', start_char_idx=0, end_char_idx=152, text_template='[Excerpt from document]\\n{metadata_str}\\nExcerpt:\\n-----\\n{content}\\n-----\\n', metadata_template='{key}: {value}', metadata_seperator='\\n'), score=0.6312427186557583), NodeWithScore(node=TextNode(id_='6e3d4a37-d467-4472-8c26-d04a1f5bf215', embedding=None, metadata={'document_title': 'Common Side Effects of Keytruda: A Comprehensive Guide'}, excluded_embed_metadata_keys=[], excluded_llm_metadata_keys=[], relationships={<NodeRelationship.SOURCE: '1'>: RelatedNodeInfo(node_id='a800f0aa-054f-4ed7-8ab4-7931c0b9b874', node_type=<ObjectType.DOCUMENT: '4'>, metadata={}, hash='e5a39cfff146f563f89b2818c0eff8c96284c5f2ef84443f0245b56e5852daf4')}, text='What are the common side effects of Keytruda? Common side effects include fatigue, nausea, and skin rash.', mimetype='text/plain', start_char_idx=0, end_char_idx=105, text_template='[Excerpt from document]\\n{metadata_str}\\nExcerpt:\\n-----\\n{content}\\n-----\\n', metadata_template='{key}: {value}', metadata_seperator='\\n'), score=0.6309745648843058), NodeWithScore(node=TextNode(id_='6769e1e6-7182-41b8-9f5a-498971f6a7ab', embedding=None, metadata={'document_title': \"Keytruda's Dual Impact on Immune System Function in Non-Small Cell Lung Cancer Patients: A Comprehensive Review\"}, excluded_embed_metadata_keys=[], excluded_llm_metadata_keys=[], relationships={<NodeRelationship.SOURCE: '1'>: RelatedNodeInfo(node_id='47b3ef42-c71e-4a91-8814-d07937aae69e', node_type=<ObjectType.DOCUMENT: '4'>, metadata={}, hash='e12b51245aa4983a9f49193844a23111cb167b4b00c8d446eb4db98f97a74af8')}, text=\"How does Keytruda affect immune system function in NSCLC patients? Keytruda enhances the immune system's ability to detect and destroy cancer cells but can also lead to immune-related adverse effects that need to be managed.\", mimetype='text/plain', start_char_idx=0, end_char_idx=224, text_template='[Excerpt from document]\\n{metadata_str}\\nExcerpt:\\n-----\\n{content}\\n-----\\n', metadata_template='{key}: {value}', metadata_seperator='\\n'), score=0.6307527643605805), NodeWithScore(node=TextNode(id_='eea58cb1-6d6b-48bf-8477-760409f4047d', embedding=None, metadata={'document_title': 'Interactions of Keytruda with Steroids and Immunosuppressants: A Comprehensive Guide'}, excluded_embed_metadata_keys=[], excluded_llm_metadata_keys=[], relationships={<NodeRelationship.SOURCE: '1'>: RelatedNodeInfo(node_id='987f65cf-e7fa-426b-9dee-bcb319fbd0eb', node_type=<ObjectType.DOCUMENT: '4'>, metadata={}, hash='1647b8ddf165cd4ee7bacab5592a24b4855623ccc473132a13c588692b32adef')}, text='Are there any known interactions between Keytruda and other medications? Yes, Keytruda can interact with steroids and certain immunosuppressants, potentially affecting its efficacy and safety.', mimetype='text/plain', start_char_idx=0, end_char_idx=192, text_template='[Excerpt from document]\\n{metadata_str}\\nExcerpt:\\n-----\\n{content}\\n-----\\n', metadata_template='{key}: {value}', metadata_seperator='\\n'), score=0.6122301041202015), NodeWithScore(node=TextNode(id_='51cbfd01-e017-42de-a362-35deae677033', embedding=None, metadata={'document_title': 'Monitoring Protocols for NSCLC Patients on Keytruda: A Comprehensive Guide'}, excluded_embed_metadata_keys=[], excluded_llm_metadata_keys=[], relationships={<NodeRelationship.SOURCE: '1'>: RelatedNodeInfo(node_id='998066fe-4f64-4047-81ec-e5f27c9c8b71', node_type=<ObjectType.DOCUMENT: '4'>, metadata={}, hash='8ece3cf9c35dc00341732316c58b9e50d78e2c1e752cb31e55dc92bfdfd0598d')}, text='Are there any specific monitoring protocols for NSCLC patients on Keytruda as suggested by KEYNOTE-006 outcomes? Regular monitoring of liver function, lung function, and immune markers is recommended to manage potential side effects effectively.', mimetype='text/plain', start_char_idx=0, end_char_idx=245, text_template='[Excerpt from document]\\n{metadata_str}\\nExcerpt:\\n-----\\n{content}\\n-----\\n', metadata_template='{key}: {value}', metadata_seperator='\\n'), score=0.6026508073530876), NodeWithScore(node=TextNode(id_='7dbe67da-6f12-4c72-b628-73539e76d315', embedding=None, metadata={'document_title': 'Treatment of NSCLC Patients with Brain Metastases Using Keytruda: Importance of Close Monitoring for Neurological Symptoms'}, excluded_embed_metadata_keys=[], excluded_llm_metadata_keys=[], relationships={<NodeRelationship.SOURCE: '1'>: RelatedNodeInfo(node_id='48e47199-0c64-40eb-a474-2ef74addbaec', node_type=<ObjectType.DOCUMENT: '4'>, metadata={}, hash='473c19f8e08f4dad458c9324b04d890d68b306b29eedf95c765f6305256b0652')}, text='Can NSCLC patients with brain metastases be treated with Keytruda? Keytruda can be used in NSCLC patients with brain metastases, especially when systemic disease control is needed, but close monitoring for neurological symptoms is essential.', mimetype='text/plain', start_char_idx=0, end_char_idx=241, text_template='[Excerpt from document]\\n{metadata_str}\\nExcerpt:\\n-----\\n{content}\\n-----\\n', metadata_template='{key}: {value}', metadata_seperator='\\n'), score=0.6009993183379987), NodeWithScore(node=TextNode(id_='5f426814-a97f-444e-9e11-ae49bfd754d0', embedding=None, metadata={'document_title': 'Side Effects in KEYNOTE-006 Trial: A Comprehensive Analysis'}, excluded_embed_metadata_keys=[], excluded_llm_metadata_keys=[], relationships={<NodeRelationship.SOURCE: '1'>: RelatedNodeInfo(node_id='e679712a-9d64-446e-8392-a8119382e131', node_type=<ObjectType.DOCUMENT: '4'>, metadata={}, hash='52217f9f5838b33448bea23a48004bd2620c4e6e5da0e6ef582fb74435b671ff')}, text='What were the side effects noted in the KEYNOTE-006 trial? Common side effects included fatigue, itching, and diarrhea.', mimetype='text/plain', start_char_idx=0, end_char_idx=119, text_template='[Excerpt from document]\\n{metadata_str}\\nExcerpt:\\n-----\\n{content}\\n-----\\n', metadata_template='{key}: {value}', metadata_seperator='\\n'), score=0.5943174317335215), NodeWithScore(node=TextNode(id_='9410a4fa-12e0-49d0-9a10-27cbad12b258', embedding=None, metadata={'document_title': 'Keytruda and Fatigue in NSCLC Patients: Understanding the Impact of Immunotherapy on Energy Levels'}, excluded_embed_metadata_keys=[], excluded_llm_metadata_keys=[], relationships={<NodeRelationship.SOURCE: '1'>: RelatedNodeInfo(node_id='8a33e7be-bb66-46e6-aee0-81fe1bd2011b', node_type=<ObjectType.DOCUMENT: '4'>, metadata={}, hash='b1e1969e11c284e71c9f2530c3e448ec900cd1a9391f7507ede56fd3401224f1')}, text='Can Keytruda cause fatigue in NSCLC patients? No detailed information aviable on the given topic.', mimetype='text/plain', start_char_idx=0, end_char_idx=97, text_template='[Excerpt from document]\\n{metadata_str}\\nExcerpt:\\n-----\\n{content}\\n-----\\n', metadata_template='{key}: {value}', metadata_seperator='\\n'), score=0.5868765628048418), NodeWithScore(node=TextNode(id_='7e5d5dcc-7c95-4fbe-ba74-037aa6e41ca3', embedding=None, metadata={'document_title': 'Safety of Keytruda in Pregnancy: A Comprehensive Review'}, excluded_embed_metadata_keys=[], excluded_llm_metadata_keys=[], relationships={<NodeRelationship.SOURCE: '1'>: RelatedNodeInfo(node_id='e2873838-e865-4cad-9d6f-5cdf0f2db7d2', node_type=<ObjectType.DOCUMENT: '4'>, metadata={}, hash='583eb4caa1acdd76a69a5a2568c582a8d1b24bf01b5232055a763bb6cd4b00a1')}, text='Is Keytruda safe for pregnant women? Keytruda is not recommended for use during pregnancy due to potential risks to the fetus.', mimetype='text/plain', start_char_idx=0, end_char_idx=126, text_template='[Excerpt from document]\\n{metadata_str}\\nExcerpt:\\n-----\\n{content}\\n-----\\n', metadata_template='{key}: {value}', metadata_seperator='\\n'), score=0.5866902931171245), NodeWithScore(node=TextNode(id_='c327f89d-31c2-4eef-909c-ad11bf2ce74a', embedding=None, metadata={'document_title': 'Criteria for Discontinuing Keytruda in Non-Small Cell Lung Cancer Patients: A Comprehensive Guide'}, excluded_embed_metadata_keys=[], excluded_llm_metadata_keys=[], relationships={<NodeRelationship.SOURCE: '1'>: RelatedNodeInfo(node_id='2f328ea4-c5a8-4320-b88f-2ca1cbe2911b', node_type=<ObjectType.DOCUMENT: '4'>, metadata={}, hash='32af240e9f1d3da212ca6def5a4e93468a5c04d3f38f989501f5131ec2761d9e')}, text='What are the criteria for discontinuing Keytruda in NSCLC patients? Keytruda may be discontinued if there is significant disease progression, unacceptable toxicity, or upon patient decision in consultation with their healthcare provider.', mimetype='text/plain', start_char_idx=0, end_char_idx=237, text_template='[Excerpt from document]\\n{metadata_str}\\nExcerpt:\\n-----\\n{content}\\n-----\\n', metadata_template='{key}: {value}', metadata_seperator='\\n'), score=0.5730752041705629), NodeWithScore(node=TextNode(id_='cb5773a5-e9fa-43cd-a852-25da66db70e2', embedding=None, metadata={'document_title': 'Comprehensive Patient Education on Keytruda: Understanding the Benefits, Risks, and Follow-Up Care'}, excluded_embed_metadata_keys=[], excluded_llm_metadata_keys=[], relationships={<NodeRelationship.SOURCE: '1'>: RelatedNodeInfo(node_id='03af9a2f-372c-4bc6-8b4c-86f2e38f5588', node_type=<ObjectType.DOCUMENT: '4'>, metadata={}, hash='686b693be1f48bc18db21fcd4a928c3180cd73f4745d4dfd26a532a14c46aa5a')}, text='How do healthcare providers educate patients about the benefits and risks of Keytruda? Healthcare providers offer educational materials, detailed consultations, and regular follow-up to discuss treatment progress and side effects.', mimetype='text/plain', start_char_idx=0, end_char_idx=230, text_template='[Excerpt from document]\\n{metadata_str}\\nExcerpt:\\n-----\\n{content}\\n-----\\n', metadata_template='{key}: {value}', metadata_seperator='\\n'), score=0.5697036172491559), NodeWithScore(node=TextNode(id_='a3e4ba87-85d6-4b7f-b38e-261a733cdfb8', embedding=None, metadata={'document_title': \"Keytruda's Impact on Metastatic NSCLC: Progression Reduction and Survival Improvement in Patients\"}, excluded_embed_metadata_keys=[], excluded_llm_metadata_keys=[], relationships={<NodeRelationship.SOURCE: '1'>: RelatedNodeInfo(node_id='172b6ea5-2346-4c47-9f4e-c6cd77f83ba4', node_type=<ObjectType.DOCUMENT: '4'>, metadata={}, hash='a09dfd6a82cdfee88b2c5772f18613aa634b9ec8cbb9de170d6db265970189f4')}, text='What was the impact of Keytruda on metastatic NSCLC in the KEYNOTE-051 trial? Keytruda significantly reduced the progression of metastatic disease and improved survival rates in metastatic NSCLC patients.', mimetype='text/plain', start_char_idx=0, end_char_idx=204, text_template='[Excerpt from document]\\n{metadata_str}\\nExcerpt:\\n-----\\n{content}\\n-----\\n', metadata_template='{key}: {value}', metadata_seperator='\\n'), score=0.56904669311591), NodeWithScore(node=TextNode(id_='0cd2c9ce-7345-42dd-bebe-648a3d83d682', embedding=None, metadata={'document_title': 'Positive Response to Keytruda in NSCLC: Tumor Size Reduction, Respiratory Symptom Improvement, and Increased Well-Being in Patients with Non-Small Cell Lung Cancer'}, excluded_embed_metadata_keys=[], excluded_llm_metadata_keys=[], relationships={<NodeRelationship.SOURCE: '1'>: RelatedNodeInfo(node_id='c5455699-72e7-4ac1-9219-e52b248fd229', node_type=<ObjectType.DOCUMENT: '4'>, metadata={}, hash='88c382ad9222a2052c23403c6568abb17f7fa4f31c9e97c68ca8c67f56e5753f')}, text='What are the signs of a positive response to Keytruda in NSCLC? Signs include a decrease in tumor size on imaging, improvement in respiratory symptoms, and increased overall physical activity and well-being.', mimetype='text/plain', start_char_idx=0, end_char_idx=207, text_template='[Excerpt from document]\\n{metadata_str}\\nExcerpt:\\n-----\\n{content}\\n-----\\n', metadata_template='{key}: {value}', metadata_seperator='\\n'), score=0.5593473810097338), NodeWithScore(node=TextNode(id_='5f013f4e-d7c3-4183-8bb3-7a47a4fa5247', embedding=None, metadata={'document_title': '\"Keytruda: Rapid Effects in Cancer Treatment - A Comprehensive Overview\"'}, excluded_embed_metadata_keys=[], excluded_llm_metadata_keys=[], relationships={<NodeRelationship.SOURCE: '1'>: RelatedNodeInfo(node_id='5e1cc82f-8dfd-4ed1-a328-f65bd5fc0d35', node_type=<ObjectType.DOCUMENT: '4'>, metadata={}, hash='e603b5a6c3801d39d0f5cf61121c09f7b5b31749c5814f1b476627cdd8084a6e')}, text='How long does it take to see the effects of Keytruda in treating cancer? Some patients may see effects as early as 2 to 3 months into the treatment.', mimetype='text/plain', start_char_idx=0, end_char_idx=148, text_template='[Excerpt from document]\\n{metadata_str}\\nExcerpt:\\n-----\\n{content}\\n-----\\n', metadata_template='{key}: {value}', metadata_seperator='\\n'), score=0.5541999930113508), NodeWithScore(node=TextNode(id_='85550009-23c9-4640-850f-4898397a3f59', embedding=None, metadata={'document_title': 'The Impact of Keytruda on Survival Rates in Non-Small Cell Lung Cancer Patients with PD-L1 Expression'}, excluded_embed_metadata_keys=[], excluded_llm_metadata_keys=[], relationships={<NodeRelationship.SOURCE: '1'>: RelatedNodeInfo(node_id='4def5d5e-7e3a-4924-aa4d-1f1471c79b90', node_type=<ObjectType.DOCUMENT: '4'>, metadata={}, hash='c94df6025cefcf1493fb5461c551250192d9938b7a0b3fae81bbd7dd0dfa9dd6')}, text='How effective is Keytruda in treating non-small cell lung cancer? Keytruda has shown to improve survival rates significantly in non-small cell lung cancer patients with PD-L1 expression.', mimetype='text/plain', start_char_idx=0, end_char_idx=186, text_template='[Excerpt from document]\\n{metadata_str}\\nExcerpt:\\n-----\\n{content}\\n-----\\n', metadata_template='{key}: {value}', metadata_seperator='\\n'), score=0.5468273336547463), NodeWithScore(node=TextNode(id_='8c1e8f5a-13b3-4097-92ed-918c596df1ac', embedding=None, metadata={'document_title': \"Keytruda's Effectiveness in Various Cancer Types: A Comprehensive Review\"}, excluded_embed_metadata_keys=[], excluded_llm_metadata_keys=[], relationships={<NodeRelationship.SOURCE: '1'>: RelatedNodeInfo(node_id='3eeccdc7-8fe1-4c2f-b3ce-c805269deea5', node_type=<ObjectType.DOCUMENT: '4'>, metadata={}, hash='211fd7fe5d712aa71ad65225538e8c34784a890315e2295a6f2d3c0ec5b2a05c')}, text='Does Keytruda work for all types of cancer? Keytruda is most effective in cancers that express PD-L1 and in a genetic background favorable to immune therapy.', mimetype='text/plain', start_char_idx=0, end_char_idx=157, text_template='[Excerpt from document]\\n{metadata_str}\\nExcerpt:\\n-----\\n{content}\\n-----\\n', metadata_template='{key}: {value}', metadata_seperator='\\n'), score=0.5468177320927938), NodeWithScore(node=TextNode(id_='c3df4d91-a194-4217-95e1-ce3522c6560f', embedding=None, metadata={'document_title': \"Keytruda's Superiority in Improving Survival Rates for NSCLC Patients with High PD-L1 Expression: A Comprehensive Analysis\"}, excluded_embed_metadata_keys=[], excluded_llm_metadata_keys=[], relationships={<NodeRelationship.SOURCE: '1'>: RelatedNodeInfo(node_id='ec5f23e6-e468-4d61-a9bb-36dfecc2b72f', node_type=<ObjectType.DOCUMENT: '4'>, metadata={}, hash='3b1dad66a83bd670df1e309367e273229a37f197a7c87c715f495efc3276e4e9')}, text='How does Keytruda improve survival rates in NSCLC patients compared to traditional treatments? Keytruda has been shown to improve the overall survival rates by reducing the risk of death by about 40% compared to traditional chemotherapy in patients with high PD-L1 expression.', mimetype='text/plain', start_char_idx=0, end_char_idx=276, text_template='[Excerpt from document]\\n{metadata_str}\\nExcerpt:\\n-----\\n{content}\\n-----\\n', metadata_template='{key}: {value}', metadata_seperator='\\n'), score=0.543186554651354), NodeWithScore(node=TextNode(id_='ff00c4a3-45e0-425e-8ea7-5a08a272c9d1', embedding=None, metadata={'document_title': 'Keytruda Treatment Response Rate in Melanoma Patients: A Comprehensive Review'}, excluded_embed_metadata_keys=[], excluded_llm_metadata_keys=[], relationships={<NodeRelationship.SOURCE: '1'>: RelatedNodeInfo(node_id='1076524e-02d4-4afd-b5c7-41e4890f7b11', node_type=<ObjectType.DOCUMENT: '4'>, metadata={}, hash='eeb978316d5f07d2b6c828a5ab96c5fb04c5a0dde90346ba8100320f7035a8ca')}, text='What is the response rate of melanoma patients treated with Keytruda? Approximately 40% of melanoma patients respond positively to Keytruda treatment.', mimetype='text/plain', start_char_idx=0, end_char_idx=150, text_template='[Excerpt from document]\\n{metadata_str}\\nExcerpt:\\n-----\\n{content}\\n-----\\n', metadata_template='{key}: {value}', metadata_seperator='\\n'), score=0.5427165300895994), NodeWithScore(node=TextNode(id_='b139d3ef-12b2-4f0f-9254-d72f61f599d9', embedding=None, metadata={'document_title': \"Keytruda's Five-Year Survival Rate for Lung Cancer Patients: A Comprehensive Review\"}, excluded_embed_metadata_keys=[], excluded_llm_metadata_keys=[], relationships={<NodeRelationship.SOURCE: '1'>: RelatedNodeInfo(node_id='8a302781-7928-4a1e-bf15-e860c40adde6', node_type=<ObjectType.DOCUMENT: '4'>, metadata={}, hash='cc5f7e805e3eb8dc3bac1c5bb409348154aa1b6ea31e5ed498c08c45fea6ed1b')}, text='What is the five-year survival rate for patients using Keytruda for lung cancer? No detailed information aviable on the given topic.', mimetype='text/plain', start_char_idx=0, end_char_idx=132, text_template='[Excerpt from document]\\n{metadata_str}\\nExcerpt:\\n-----\\n{content}\\n-----\\n', metadata_template='{key}: {value}', metadata_seperator='\\n'), score=0.5400523267420777), NodeWithScore(node=TextNode(id_='39aa151b-376f-4262-8d54-55600a323763', embedding=None, metadata={'document_title': 'Combination Therapies with Keytruda for Enhanced Cancer Treatment: A Comprehensive Overview'}, excluded_embed_metadata_keys=[], excluded_llm_metadata_keys=[], relationships={<NodeRelationship.SOURCE: '1'>: RelatedNodeInfo(node_id='433dd35b-1d97-4c68-9594-545629b5b4f3', node_type=<ObjectType.DOCUMENT: '4'>, metadata={}, hash='12a8d2b371d47dda014ac33af341be6d82415dd681b26dececc4838a7f330600')}, text='Can Keytruda be used in combination with other therapies? Yes, Keytruda can be used in combination with chemotherapy and other immunotherapies depending on the cancer type.', mimetype='text/plain', start_char_idx=0, end_char_idx=172, text_template='[Excerpt from document]\\n{metadata_str}\\nExcerpt:\\n-----\\n{content}\\n-----\\n', metadata_template='{key}: {value}', metadata_seperator='\\n'), score=0.5381645240864024), NodeWithScore(node=TextNode(id_='0111506d-006c-48b7-9ba2-7038fc2f4424', embedding=None, metadata={'document_title': 'Enhancing NSCLC Treatment with Keytruda Combination Therapy: A Comprehensive Review'}, excluded_embed_metadata_keys=[], excluded_llm_metadata_keys=[], relationships={<NodeRelationship.SOURCE: '1'>: RelatedNodeInfo(node_id='58484f72-869e-4623-8e75-af551586f3e0', node_type=<ObjectType.DOCUMENT: '4'>, metadata={}, hash='0d5b90b6f05e5f043dcfe0b79950ef0294571dfc808c9fc452ff3dbf368de11e')}, text='How does Keytruda work in combination with other therapies for NSCLC?  Keytruda works synergistically with chemotherapy and other immunotherapies to enhance the immune response against cancer cells, often leading to improved outcomes.', mimetype='text/plain', start_char_idx=0, end_char_idx=234, text_template='[Excerpt from document]\\n{metadata_str}\\nExcerpt:\\n-----\\n{content}\\n-----\\n', metadata_template='{key}: {value}', metadata_seperator='\\n'), score=0.5311311274937927), NodeWithScore(node=TextNode(id_='24cf31ff-55fe-47a1-8d05-c5c671cc75bd', embedding=None, metadata={'document_title': 'Treatment Options for Non-Responding NSCLC Patients: A Comprehensive Guide'}, excluded_embed_metadata_keys=[], excluded_llm_metadata_keys=[], relationships={<NodeRelationship.SOURCE: '1'>: RelatedNodeInfo(node_id='cdc394fe-4fb1-4a32-9ec6-ff83e6360acc', node_type=<ObjectType.DOCUMENT: '4'>, metadata={}, hash='53c0b1967dd5ba99d4c7ead9a19b9ad2ecd3df6d6e4ad6ae32ddc7c7a73f4e4f')}, text='What are the options if an NSCLC patient does not respond to Keytruda? For non-responders, options may include switching to different immunotherapy drugs, combination therapies with chemotherapy, or targeted therapies based on genetic mutations.', mimetype='text/plain', start_char_idx=0, end_char_idx=245, text_template='[Excerpt from document]\\n{metadata_str}\\nExcerpt:\\n-----\\n{content}\\n-----\\n', metadata_template='{key}: {value}', metadata_seperator='\\n'), score=0.5310132120515899), NodeWithScore(node=TextNode(id_='5e304353-3439-461b-91ab-639a11bf7dae', embedding=None, metadata={'document_title': 'Keytruda Support Community: Sharing Experiences and Advice'}, excluded_embed_metadata_keys=[], excluded_llm_metadata_keys=[], relationships={<NodeRelationship.SOURCE: '1'>: RelatedNodeInfo(node_id='7ec77fae-086c-43bb-a92e-91c1d4d435e7', node_type=<ObjectType.DOCUMENT: '4'>, metadata={}, hash='eb3f5ae6f374cc93ba105088a7e6f71e15ade3db30aaacc0daa77a017231d428')}, text='Is there a community support group for patients undergoing treatment with Keytruda? Yes, several online and local support groups are available for sharing experiences and advice.', mimetype='text/plain', start_char_idx=0, end_char_idx=178, text_template='[Excerpt from document]\\n{metadata_str}\\nExcerpt:\\n-----\\n{content}\\n-----\\n', metadata_template='{key}: {value}', metadata_seperator='\\n'), score=0.5280227227325387), NodeWithScore(node=TextNode(id_='aa0b8a1a-6bf8-45de-87a9-369873d76e93', embedding=None, metadata={'document_title': \"Guidelines for Keytruda in the Treatment of Hodgkin's Lymphoma\"}, excluded_embed_metadata_keys=[], excluded_llm_metadata_keys=[], relationships={<NodeRelationship.SOURCE: '1'>: RelatedNodeInfo(node_id='621e90d2-0989-4dd8-bd94-cbedad0d4aac', node_type=<ObjectType.DOCUMENT: '4'>, metadata={}, hash='74ca0cad5d3066e93179bf0032fa6ddfd1525d1d506296b91f301f7b1c92b67d')}, text=\"What are the guidelines for Keytruda in treating Hodgkin's lymphoma? Keytruda is recommended for relapsed or refractory classical Hodgkin lymphoma after two or more lines of therapy.\", mimetype='text/plain', start_char_idx=0, end_char_idx=182, text_template='[Excerpt from document]\\n{metadata_str}\\nExcerpt:\\n-----\\n{content}\\n-----\\n', metadata_template='{key}: {value}', metadata_seperator='\\n'), score=0.5234387480807154), NodeWithScore(node=TextNode(id_='31dbb54c-b740-40f5-9f86-15b05aafecf9', embedding=None, metadata={'document_title': 'Keytruda Dosage Recommendations for Melanoma Treatment'}, excluded_embed_metadata_keys=[], excluded_llm_metadata_keys=[], relationships={<NodeRelationship.SOURCE: '1'>: RelatedNodeInfo(node_id='642f3089-69ce-452c-afd7-ab2f6ad29f88', node_type=<ObjectType.DOCUMENT: '4'>, metadata={}, hash='398aec4e73b60ec219102c812038d8f71b49e6f1289cdd58ee8d1f40b515e6de')}, text='What is the recommended dosage of Keytruda for melanoma? The recommended dosage is 200 mg every three weeks for adults.', mimetype='text/plain', start_char_idx=0, end_char_idx=119, text_template='[Excerpt from document]\\n{metadata_str}\\nExcerpt:\\n-----\\n{content}\\n-----\\n', metadata_template='{key}: {value}', metadata_seperator='\\n'), score=0.5233014666804785), NodeWithScore(node=TextNode(id_='0f9aa112-e9e2-48df-87db-23cbbba2b38f', embedding=None, metadata={'document_title': 'Keytruda Administration: Comprehensive Guide for Intravenous Infusion Over 30 Minutes'}, excluded_embed_metadata_keys=[], excluded_llm_metadata_keys=[], relationships={<NodeRelationship.SOURCE: '1'>: RelatedNodeInfo(node_id='90836c65-0674-4663-867f-576e0068569a', node_type=<ObjectType.DOCUMENT: '4'>, metadata={}, hash='1b49e5c862a94574d8068d5c00457f2698e05dd8c98cec8ee3c68720053a7ba9')}, text='How is Keytruda administered? Keytruda is administered as an intravenous infusion over 30 minutes.', mimetype='text/plain', start_char_idx=0, end_char_idx=98, text_template='[Excerpt from document]\\n{metadata_str}\\nExcerpt:\\n-----\\n{content}\\n-----\\n', metadata_template='{key}: {value}', metadata_seperator='\\n'), score=0.5216869070405916)], metadata={'1c86f3e8-53f4-417a-9c1b-81fb42255e97': {'document_title': 'Keytruda and Immune-Related Adverse Effects: A Comprehensive Overview'}, '42490fd1-3472-46b2-a045-3c674b8c4d45': {'document_title': 'Monitoring Keytruda Side Effects in NSCLC Patients: A Comprehensive Guide'}, '08a41277-3e68-438d-a1ef-0e5cee2fee19': {'document_title': 'Keytruda Treatment: Reporting Symptoms Immediately for Optimal Care and Safety'}, '82c7d105-9423-4af9-b9e9-e48a1b5c87f8': {'document_title': 'Keytruda Use in NSCLC Patients with Autoimmune Diseases: Caution Advised'}, '64096ccf-4e98-4416-86cb-b1d896231199': {'document_title': 'Keytruda and Blood Pressure Changes: Understanding the Relationship and Implications'}, '6e3d4a37-d467-4472-8c26-d04a1f5bf215': {'document_title': 'Common Side Effects of Keytruda: A Comprehensive Guide'}, '6769e1e6-7182-41b8-9f5a-498971f6a7ab': {'document_title': \"Keytruda's Dual Impact on Immune System Function in Non-Small Cell Lung Cancer Patients: A Comprehensive Review\"}, 'eea58cb1-6d6b-48bf-8477-760409f4047d': {'document_title': 'Interactions of Keytruda with Steroids and Immunosuppressants: A Comprehensive Guide'}, '51cbfd01-e017-42de-a362-35deae677033': {'document_title': 'Monitoring Protocols for NSCLC Patients on Keytruda: A Comprehensive Guide'}, '7dbe67da-6f12-4c72-b628-73539e76d315': {'document_title': 'Treatment of NSCLC Patients with Brain Metastases Using Keytruda: Importance of Close Monitoring for Neurological Symptoms'}, '5f426814-a97f-444e-9e11-ae49bfd754d0': {'document_title': 'Side Effects in KEYNOTE-006 Trial: A Comprehensive Analysis'}, '9410a4fa-12e0-49d0-9a10-27cbad12b258': {'document_title': 'Keytruda and Fatigue in NSCLC Patients: Understanding the Impact of Immunotherapy on Energy Levels'}, '7e5d5dcc-7c95-4fbe-ba74-037aa6e41ca3': {'document_title': 'Safety of Keytruda in Pregnancy: A Comprehensive Review'}, 'c327f89d-31c2-4eef-909c-ad11bf2ce74a': {'document_title': 'Criteria for Discontinuing Keytruda in Non-Small Cell Lung Cancer Patients: A Comprehensive Guide'}, 'cb5773a5-e9fa-43cd-a852-25da66db70e2': {'document_title': 'Comprehensive Patient Education on Keytruda: Understanding the Benefits, Risks, and Follow-Up Care'}, 'a3e4ba87-85d6-4b7f-b38e-261a733cdfb8': {'document_title': \"Keytruda's Impact on Metastatic NSCLC: Progression Reduction and Survival Improvement in Patients\"}, '0cd2c9ce-7345-42dd-bebe-648a3d83d682': {'document_title': 'Positive Response to Keytruda in NSCLC: Tumor Size Reduction, Respiratory Symptom Improvement, and Increased Well-Being in Patients with Non-Small Cell Lung Cancer'}, '5f013f4e-d7c3-4183-8bb3-7a47a4fa5247': {'document_title': '\"Keytruda: Rapid Effects in Cancer Treatment - A Comprehensive Overview\"'}, '85550009-23c9-4640-850f-4898397a3f59': {'document_title': 'The Impact of Keytruda on Survival Rates in Non-Small Cell Lung Cancer Patients with PD-L1 Expression'}, '8c1e8f5a-13b3-4097-92ed-918c596df1ac': {'document_title': \"Keytruda's Effectiveness in Various Cancer Types: A Comprehensive Review\"}, 'c3df4d91-a194-4217-95e1-ce3522c6560f': {'document_title': \"Keytruda's Superiority in Improving Survival Rates for NSCLC Patients with High PD-L1 Expression: A Comprehensive Analysis\"}, 'ff00c4a3-45e0-425e-8ea7-5a08a272c9d1': {'document_title': 'Keytruda Treatment Response Rate in Melanoma Patients: A Comprehensive Review'}, 'b139d3ef-12b2-4f0f-9254-d72f61f599d9': {'document_title': \"Keytruda's Five-Year Survival Rate for Lung Cancer Patients: A Comprehensive Review\"}, '39aa151b-376f-4262-8d54-55600a323763': {'document_title': 'Combination Therapies with Keytruda for Enhanced Cancer Treatment: A Comprehensive Overview'}, '0111506d-006c-48b7-9ba2-7038fc2f4424': {'document_title': 'Enhancing NSCLC Treatment with Keytruda Combination Therapy: A Comprehensive Review'}, '24cf31ff-55fe-47a1-8d05-c5c671cc75bd': {'document_title': 'Treatment Options for Non-Responding NSCLC Patients: A Comprehensive Guide'}, '5e304353-3439-461b-91ab-639a11bf7dae': {'document_title': 'Keytruda Support Community: Sharing Experiences and Advice'}, 'aa0b8a1a-6bf8-45de-87a9-369873d76e93': {'document_title': \"Guidelines for Keytruda in the Treatment of Hodgkin's Lymphoma\"}, '31dbb54c-b740-40f5-9f86-15b05aafecf9': {'document_title': 'Keytruda Dosage Recommendations for Melanoma Treatment'}, '0f9aa112-e9e2-48df-87db-23cbbba2b38f': {'document_title': 'Keytruda Administration: Comprehensive Guide for Intravenous Infusion Over 30 Minutes'}})"
      ]
     },
     "execution_count": 4,
     "metadata": {},
     "output_type": "execute_result"
    }
   ],
   "source": [
    "response = query_engine_without_reranker.query(\"What are potential CONSECUENCES of keytruda?\")\n",
    "response\n"
   ]
  },
  {
   "cell_type": "code",
   "execution_count": 5,
   "metadata": {},
   "outputs": [
    {
     "name": "stdout",
     "output_type": "stream",
     "text": [
      "INFO:httpx:HTTP Request: POST https://api.openai.com/v1/embeddings \"HTTP/1.1 200 OK\"\n",
      "HTTP Request: POST https://api.openai.com/v1/embeddings \"HTTP/1.1 200 OK\"\n",
      "HTTP Request: POST https://api.openai.com/v1/embeddings \"HTTP/1.1 200 OK\"\n",
      "INFO:httpx:HTTP Request: POST https://api.openai.com/v1/chat/completions \"HTTP/1.1 200 OK\"\n",
      "HTTP Request: POST https://api.openai.com/v1/chat/completions \"HTTP/1.1 200 OK\"\n",
      "HTTP Request: POST https://api.openai.com/v1/chat/completions \"HTTP/1.1 200 OK\"\n",
      "After Reranking, new rank list for nodes: [0, 6, 1, 3, 8, 25, 27, 23, 24, 9, 14, 13, 20, 18, 19, 21, 4, 10, 5, 7, 26, 17, 16, 15, 2, 11, 12, 28, 29, 22]INFO:httpx:HTTP Request: POST https://api.openai.com/v1/chat/completions \"HTTP/1.1 200 OK\"\n",
      "HTTP Request: POST https://api.openai.com/v1/chat/completions \"HTTP/1.1 200 OK\"\n",
      "HTTP Request: POST https://api.openai.com/v1/chat/completions \"HTTP/1.1 200 OK\"\n"
     ]
    },
    {
     "data": {
      "text/plain": [
       "Response(response='Potential consequences of Keytruda include immune-related adverse effects such as colitis, hepatitis, pneumonitis, and the exacerbation of pre-existing autoimmune diseases. Regular monitoring of liver function, lung function, and immune markers is recommended to manage these potential side effects effectively.', source_nodes=[NodeWithScore(node=TextNode(id_='1c86f3e8-53f4-417a-9c1b-81fb42255e97', embedding=None, metadata={'document_title': 'Keytruda and Immune-Related Adverse Effects: A Comprehensive Overview'}, excluded_embed_metadata_keys=[], excluded_llm_metadata_keys=[], relationships={<NodeRelationship.SOURCE: '1'>: RelatedNodeInfo(node_id='49de588d-beb9-4e7e-84dc-06ffb2e63a2d', node_type=<ObjectType.DOCUMENT: '4'>, metadata={}, hash='c73be1b4e2cb5e6157fd80000f0fe59f6ca8631fa4924c5ed0be7dd3180c3218')}, text='Can Keytruda cause immune-related adverse effects? Yes, Keytruda can cause immune-related adverse effects such as colitis, hepatitis, and pneumonitis.', mimetype='text/plain', start_char_idx=0, end_char_idx=150, text_template='[Excerpt from document]\\n{metadata_str}\\nExcerpt:\\n-----\\n{content}\\n-----\\n', metadata_template='{key}: {value}', metadata_seperator='\\n'), score=0.6946415218110189), NodeWithScore(node=TextNode(id_='6769e1e6-7182-41b8-9f5a-498971f6a7ab', embedding=None, metadata={'document_title': \"Keytruda's Dual Impact on Immune System Function in Non-Small Cell Lung Cancer Patients: A Comprehensive Review\"}, excluded_embed_metadata_keys=[], excluded_llm_metadata_keys=[], relationships={<NodeRelationship.SOURCE: '1'>: RelatedNodeInfo(node_id='47b3ef42-c71e-4a91-8814-d07937aae69e', node_type=<ObjectType.DOCUMENT: '4'>, metadata={}, hash='e12b51245aa4983a9f49193844a23111cb167b4b00c8d446eb4db98f97a74af8')}, text=\"How does Keytruda affect immune system function in NSCLC patients? Keytruda enhances the immune system's ability to detect and destroy cancer cells but can also lead to immune-related adverse effects that need to be managed.\", mimetype='text/plain', start_char_idx=0, end_char_idx=224, text_template='[Excerpt from document]\\n{metadata_str}\\nExcerpt:\\n-----\\n{content}\\n-----\\n', metadata_template='{key}: {value}', metadata_seperator='\\n'), score=0.6307527643605805), NodeWithScore(node=TextNode(id_='42490fd1-3472-46b2-a045-3c674b8c4d45', embedding=None, metadata={'document_title': 'Monitoring Keytruda Side Effects in NSCLC Patients: A Comprehensive Guide'}, excluded_embed_metadata_keys=[], excluded_llm_metadata_keys=[], relationships={<NodeRelationship.SOURCE: '1'>: RelatedNodeInfo(node_id='e6afb036-e8de-4798-ac85-b11e7126d096', node_type=<ObjectType.DOCUMENT: '4'>, metadata={}, hash='c836b84f73a24eb1651123703374f4762bd0bd27f62b0153ea405e07244ce7ef')}, text='Are there specific side effects of Keytruda that NSCLC patients should monitor? NSCLC patients should monitor for cough, shortness of breath, and chest pain, as these could indicate immune-related pneumonitis.', mimetype='text/plain', start_char_idx=0, end_char_idx=209, text_template='[Excerpt from document]\\n{metadata_str}\\nExcerpt:\\n-----\\n{content}\\n-----\\n', metadata_template='{key}: {value}', metadata_seperator='\\n'), score=0.6553319883921088), NodeWithScore(node=TextNode(id_='82c7d105-9423-4af9-b9e9-e48a1b5c87f8', embedding=None, metadata={'document_title': 'Keytruda Use in NSCLC Patients with Autoimmune Diseases: Caution Advised'}, excluded_embed_metadata_keys=[], excluded_llm_metadata_keys=[], relationships={<NodeRelationship.SOURCE: '1'>: RelatedNodeInfo(node_id='d2d6ade0-d86c-441f-9bae-6d22c5400925', node_type=<ObjectType.DOCUMENT: '4'>, metadata={}, hash='d6006a9d9525d8f9c40c21e1768057a9ab8ebe753bb9f9b1fbe831a9c6b62979')}, text='Can Keytruda be used in NSCLC patients with autoimmune diseases? Keytruda should be used with caution in patients with pre-existing autoimmune diseases due to the risk of exacerbating the condition.', mimetype='text/plain', start_char_idx=0, end_char_idx=198, text_template='[Excerpt from document]\\n{metadata_str}\\nExcerpt:\\n-----\\n{content}\\n-----\\n', metadata_template='{key}: {value}', metadata_seperator='\\n'), score=0.6328848170584861), NodeWithScore(node=TextNode(id_='51cbfd01-e017-42de-a362-35deae677033', embedding=None, metadata={'document_title': 'Monitoring Protocols for NSCLC Patients on Keytruda: A Comprehensive Guide'}, excluded_embed_metadata_keys=[], excluded_llm_metadata_keys=[], relationships={<NodeRelationship.SOURCE: '1'>: RelatedNodeInfo(node_id='998066fe-4f64-4047-81ec-e5f27c9c8b71', node_type=<ObjectType.DOCUMENT: '4'>, metadata={}, hash='8ece3cf9c35dc00341732316c58b9e50d78e2c1e752cb31e55dc92bfdfd0598d')}, text='Are there any specific monitoring protocols for NSCLC patients on Keytruda as suggested by KEYNOTE-006 outcomes? Regular monitoring of liver function, lung function, and immune markers is recommended to manage potential side effects effectively.', mimetype='text/plain', start_char_idx=0, end_char_idx=245, text_template='[Excerpt from document]\\n{metadata_str}\\nExcerpt:\\n-----\\n{content}\\n-----\\n', metadata_template='{key}: {value}', metadata_seperator='\\n'), score=0.6026508073530876)], metadata={'1c86f3e8-53f4-417a-9c1b-81fb42255e97': {'document_title': 'Keytruda and Immune-Related Adverse Effects: A Comprehensive Overview'}, '6769e1e6-7182-41b8-9f5a-498971f6a7ab': {'document_title': \"Keytruda's Dual Impact on Immune System Function in Non-Small Cell Lung Cancer Patients: A Comprehensive Review\"}, '42490fd1-3472-46b2-a045-3c674b8c4d45': {'document_title': 'Monitoring Keytruda Side Effects in NSCLC Patients: A Comprehensive Guide'}, '82c7d105-9423-4af9-b9e9-e48a1b5c87f8': {'document_title': 'Keytruda Use in NSCLC Patients with Autoimmune Diseases: Caution Advised'}, '51cbfd01-e017-42de-a362-35deae677033': {'document_title': 'Monitoring Protocols for NSCLC Patients on Keytruda: A Comprehensive Guide'}})"
      ]
     },
     "execution_count": 5,
     "metadata": {},
     "output_type": "execute_result"
    }
   ],
   "source": [
    "response = query_engine_with_reranker.query(\"What are potential CONSECUENCES of keytruda?\")\n",
    "response\n"
   ]
  },
  {
   "cell_type": "markdown",
   "metadata": {},
   "source": [
    "# Evaluation"
   ]
  },
  {
   "cell_type": "code",
   "execution_count": 6,
   "metadata": {},
   "outputs": [
    {
     "data": {
      "text/plain": [
       "Dataset({\n",
       "    features: ['question'],\n",
       "    num_rows: 220\n",
       "})"
      ]
     },
     "execution_count": 6,
     "metadata": {},
     "output_type": "execute_result"
    }
   ],
   "source": [
    "df = pd.read_parquet(\"../data/processed_data/df_eval.parquet\")\n",
    "\n",
    "\n",
    "metrics = [\n",
    "    faithfulness,\n",
    "    answer_relevancy,\n",
    "    #context_precision,\n",
    "    #context_recall,\n",
    "    #harmfulness,\n",
    "]\n",
    "\n",
    "evaluator_llm = OpenAI(model=\"gpt-3.5-turbo\")\n",
    "\n",
    "\n",
    "ds = df[[\"augmented_questions\"]].rename(columns = {\"augmented_questions\":\"question\"})\n",
    "\n",
    "ds_dict = ds.to_dict()\n",
    "ds_dict[\"question\"] = [v for k, v in ds_dict[\"question\"].items()] \n",
    "\n",
    "dataset = Dataset.from_dict(ds_dict)\n",
    "dataset"
   ]
  },
  {
   "cell_type": "code",
   "execution_count": 12,
   "metadata": {},
   "outputs": [],
   "source": [
    "result = evaluate(\n",
    "    query_engine=query_engine_without_reranker,\n",
    "    metrics=metrics,\n",
    "    dataset=dataset,\n",
    "    llm=evaluator_llm,\n",
    "    embeddings=OpenAIEmbedding(),\n",
    ")\n",
    "\n",
    "df_result_without_reranker = result.to_pandas()\n",
    "df_result_without_reranker.to_parquet(\"../data/processed_data/df_result_ragas_without_reranking_.parquet\")\n",
    "\n",
    "df_result_without_reranker"
   ]
  },
  {
   "cell_type": "code",
   "execution_count": 11,
   "metadata": {},
   "outputs": [],
   "source": [
    "\n",
    "\n",
    "result = evaluate(\n",
    "    query_engine=query_engine_with_reranker,\n",
    "    metrics=metrics,\n",
    "    dataset=dataset,\n",
    "    llm=evaluator_llm,\n",
    "    embeddings=OpenAIEmbedding(),\n",
    ")\n",
    "\n",
    "df_result_with_reranker = result.to_pandas()\n",
    "df_result_with_reranker.to_parquet(\"../data/processed_data/df_result_ragas_with_reranking_.parquet\")\n",
    "\n",
    "df_result_with_reranker"
   ]
  },
  {
   "cell_type": "code",
   "execution_count": 9,
   "metadata": {},
   "outputs": [
    {
     "data": {
      "text/html": [
       "<div>\n",
       "<style scoped>\n",
       "    .dataframe tbody tr th:only-of-type {\n",
       "        vertical-align: middle;\n",
       "    }\n",
       "\n",
       "    .dataframe tbody tr th {\n",
       "        vertical-align: top;\n",
       "    }\n",
       "\n",
       "    .dataframe thead th {\n",
       "        text-align: right;\n",
       "    }\n",
       "</style>\n",
       "<table border=\"1\" class=\"dataframe\">\n",
       "  <thead>\n",
       "    <tr style=\"text-align: right;\">\n",
       "      <th></th>\n",
       "      <th>faithfulness</th>\n",
       "      <th>answer_relevancy</th>\n",
       "    </tr>\n",
       "  </thead>\n",
       "  <tbody>\n",
       "    <tr>\n",
       "      <th>count</th>\n",
       "      <td>218.000000</td>\n",
       "      <td>220.000000</td>\n",
       "    </tr>\n",
       "    <tr>\n",
       "      <th>mean</th>\n",
       "      <td>0.827316</td>\n",
       "      <td>0.859463</td>\n",
       "    </tr>\n",
       "    <tr>\n",
       "      <th>std</th>\n",
       "      <td>0.285554</td>\n",
       "      <td>0.301945</td>\n",
       "    </tr>\n",
       "    <tr>\n",
       "      <th>min</th>\n",
       "      <td>0.000000</td>\n",
       "      <td>0.000000</td>\n",
       "    </tr>\n",
       "    <tr>\n",
       "      <th>25%</th>\n",
       "      <td>0.600000</td>\n",
       "      <td>0.949778</td>\n",
       "    </tr>\n",
       "    <tr>\n",
       "      <th>50%</th>\n",
       "      <td>1.000000</td>\n",
       "      <td>0.964436</td>\n",
       "    </tr>\n",
       "    <tr>\n",
       "      <th>75%</th>\n",
       "      <td>1.000000</td>\n",
       "      <td>0.975003</td>\n",
       "    </tr>\n",
       "    <tr>\n",
       "      <th>max</th>\n",
       "      <td>1.000000</td>\n",
       "      <td>1.000000</td>\n",
       "    </tr>\n",
       "  </tbody>\n",
       "</table>\n",
       "</div>"
      ],
      "text/plain": [
       "       faithfulness  answer_relevancy\n",
       "count    218.000000        220.000000\n",
       "mean       0.827316          0.859463\n",
       "std        0.285554          0.301945\n",
       "min        0.000000          0.000000\n",
       "25%        0.600000          0.949778\n",
       "50%        1.000000          0.964436\n",
       "75%        1.000000          0.975003\n",
       "max        1.000000          1.000000"
      ]
     },
     "execution_count": 9,
     "metadata": {},
     "output_type": "execute_result"
    }
   ],
   "source": [
    "# without reranking\n",
    "df_result_without_reranker.describe()"
   ]
  },
  {
   "cell_type": "code",
   "execution_count": 10,
   "metadata": {},
   "outputs": [
    {
     "data": {
      "text/html": [
       "<div>\n",
       "<style scoped>\n",
       "    .dataframe tbody tr th:only-of-type {\n",
       "        vertical-align: middle;\n",
       "    }\n",
       "\n",
       "    .dataframe tbody tr th {\n",
       "        vertical-align: top;\n",
       "    }\n",
       "\n",
       "    .dataframe thead th {\n",
       "        text-align: right;\n",
       "    }\n",
       "</style>\n",
       "<table border=\"1\" class=\"dataframe\">\n",
       "  <thead>\n",
       "    <tr style=\"text-align: right;\">\n",
       "      <th></th>\n",
       "      <th>faithfulness</th>\n",
       "      <th>answer_relevancy</th>\n",
       "    </tr>\n",
       "  </thead>\n",
       "  <tbody>\n",
       "    <tr>\n",
       "      <th>count</th>\n",
       "      <td>219.000000</td>\n",
       "      <td>220.000000</td>\n",
       "    </tr>\n",
       "    <tr>\n",
       "      <th>mean</th>\n",
       "      <td>0.789695</td>\n",
       "      <td>0.891236</td>\n",
       "    </tr>\n",
       "    <tr>\n",
       "      <th>std</th>\n",
       "      <td>0.321104</td>\n",
       "      <td>0.259486</td>\n",
       "    </tr>\n",
       "    <tr>\n",
       "      <th>min</th>\n",
       "      <td>0.000000</td>\n",
       "      <td>0.000000</td>\n",
       "    </tr>\n",
       "    <tr>\n",
       "      <th>25%</th>\n",
       "      <td>0.550000</td>\n",
       "      <td>0.949394</td>\n",
       "    </tr>\n",
       "    <tr>\n",
       "      <th>50%</th>\n",
       "      <td>1.000000</td>\n",
       "      <td>0.967308</td>\n",
       "    </tr>\n",
       "    <tr>\n",
       "      <th>75%</th>\n",
       "      <td>1.000000</td>\n",
       "      <td>0.979370</td>\n",
       "    </tr>\n",
       "    <tr>\n",
       "      <th>max</th>\n",
       "      <td>1.000000</td>\n",
       "      <td>1.000000</td>\n",
       "    </tr>\n",
       "  </tbody>\n",
       "</table>\n",
       "</div>"
      ],
      "text/plain": [
       "       faithfulness  answer_relevancy\n",
       "count    219.000000        220.000000\n",
       "mean       0.789695          0.891236\n",
       "std        0.321104          0.259486\n",
       "min        0.000000          0.000000\n",
       "25%        0.550000          0.949394\n",
       "50%        1.000000          0.967308\n",
       "75%        1.000000          0.979370\n",
       "max        1.000000          1.000000"
      ]
     },
     "execution_count": 10,
     "metadata": {},
     "output_type": "execute_result"
    }
   ],
   "source": [
    "# with reranking\n",
    "df_result_with_reranker.describe()"
   ]
  },
  {
   "cell_type": "code",
   "execution_count": null,
   "metadata": {},
   "outputs": [],
   "source": []
  },
  {
   "cell_type": "code",
   "execution_count": null,
   "metadata": {},
   "outputs": [],
   "source": []
  }
 ],
 "metadata": {
  "kernelspec": {
   "display_name": ".venv",
   "language": "python",
   "name": "python3"
  },
  "language_info": {
   "codemirror_mode": {
    "name": "ipython",
    "version": 3
   },
   "file_extension": ".py",
   "mimetype": "text/x-python",
   "name": "python",
   "nbconvert_exporter": "python",
   "pygments_lexer": "ipython3",
   "version": "3.11.10"
  }
 },
 "nbformat": 4,
 "nbformat_minor": 2
}
